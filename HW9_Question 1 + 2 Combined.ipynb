{
 "cells": [
  {
   "cell_type": "markdown",
   "id": "ac43bf62",
   "metadata": {},
   "source": [
    "# HW9\n",
    "# Peer-Graded Section"
   ]
  },
  {
   "cell_type": "code",
   "execution_count": 1,
   "id": "f3f646d6",
   "metadata": {},
   "outputs": [],
   "source": [
    "import numpy as np\n",
    "import pandas as pd\n",
    "import math as math\n",
    "import statistics\n",
    "import matplotlib.pyplot as plt\n",
    "\n",
    "from numpy.linalg import svd\n",
    "from sklearn import datasets\n",
    "from sklearn.decomposition import PCA, NMF"
   ]
  },
  {
   "cell_type": "markdown",
   "id": "8b580dd5",
   "metadata": {},
   "source": [
    "## Question a"
   ]
  },
  {
   "cell_type": "code",
   "execution_count": 2,
   "id": "a01c41cc",
   "metadata": {},
   "outputs": [
    {
     "data": {
      "text/html": [
       "<div>\n",
       "<style scoped>\n",
       "    .dataframe tbody tr th:only-of-type {\n",
       "        vertical-align: middle;\n",
       "    }\n",
       "\n",
       "    .dataframe tbody tr th {\n",
       "        vertical-align: top;\n",
       "    }\n",
       "\n",
       "    .dataframe thead th {\n",
       "        text-align: right;\n",
       "    }\n",
       "</style>\n",
       "<table border=\"1\" class=\"dataframe\">\n",
       "  <thead>\n",
       "    <tr style=\"text-align: right;\">\n",
       "      <th></th>\n",
       "      <th>Toy Story (1995)</th>\n",
       "      <th>Jumanji (1995)</th>\n",
       "      <th>Grumpier Old Men (1995)</th>\n",
       "      <th>Waiting to Exhale (1995)</th>\n",
       "      <th>Father of the Bride Part II (1995)</th>\n",
       "      <th>Heat (1995)</th>\n",
       "      <th>Sabrina (1995)</th>\n",
       "      <th>Tom and Huck (1995)</th>\n",
       "      <th>Sudden Death (1995)</th>\n",
       "      <th>GoldenEye (1995)</th>\n",
       "      <th>...</th>\n",
       "      <th>Madame Sin (1972)</th>\n",
       "      <th>Illegally Yours (1988)</th>\n",
       "      <th>A Daughter's Nightmare (2014)</th>\n",
       "      <th>Beside Still Waters (2013)</th>\n",
       "      <th>Fallen (2005)</th>\n",
       "      <th>The Brittany Murphy Story (2014)</th>\n",
       "      <th>Up from the Depths (1979)</th>\n",
       "      <th>Tumult (2012)</th>\n",
       "      <th>Love's Abiding Joy (2006)</th>\n",
       "      <th>Bullyparade - Der Film (2017)</th>\n",
       "    </tr>\n",
       "  </thead>\n",
       "  <tbody>\n",
       "    <tr>\n",
       "      <th>1</th>\n",
       "      <td>Adventure|Animation|Children|Comedy|Fantasy</td>\n",
       "      <td>Adventure|Children|Fantasy</td>\n",
       "      <td>Comedy|Romance</td>\n",
       "      <td>Comedy|Drama|Romance</td>\n",
       "      <td>Comedy</td>\n",
       "      <td>Action|Crime|Thriller</td>\n",
       "      <td>Comedy|Romance</td>\n",
       "      <td>Adventure|Children</td>\n",
       "      <td>Action</td>\n",
       "      <td>Action|Adventure|Thriller</td>\n",
       "      <td>...</td>\n",
       "      <td>Thriller</td>\n",
       "      <td>Comedy|Romance</td>\n",
       "      <td>Drama|Mystery|Thriller</td>\n",
       "      <td>(no genres listed)</td>\n",
       "      <td>Drama</td>\n",
       "      <td>Drama</td>\n",
       "      <td>Horror</td>\n",
       "      <td>(no genres listed)</td>\n",
       "      <td>Action|Drama|Romance</td>\n",
       "      <td>Comedy</td>\n",
       "    </tr>\n",
       "    <tr>\n",
       "      <th>2</th>\n",
       "      <td>3.5</td>\n",
       "      <td>3.5</td>\n",
       "      <td>3</td>\n",
       "      <td>NaN</td>\n",
       "      <td>NaN</td>\n",
       "      <td>NaN</td>\n",
       "      <td>NaN</td>\n",
       "      <td>NaN</td>\n",
       "      <td>NaN</td>\n",
       "      <td>NaN</td>\n",
       "      <td>...</td>\n",
       "      <td>NaN</td>\n",
       "      <td>NaN</td>\n",
       "      <td>NaN</td>\n",
       "      <td>NaN</td>\n",
       "      <td>3.5</td>\n",
       "      <td>NaN</td>\n",
       "      <td>NaN</td>\n",
       "      <td>NaN</td>\n",
       "      <td>NaN</td>\n",
       "      <td>NaN</td>\n",
       "    </tr>\n",
       "    <tr>\n",
       "      <th>3</th>\n",
       "      <td>2.5</td>\n",
       "      <td>NaN</td>\n",
       "      <td>NaN</td>\n",
       "      <td>NaN</td>\n",
       "      <td>NaN</td>\n",
       "      <td>3</td>\n",
       "      <td>NaN</td>\n",
       "      <td>NaN</td>\n",
       "      <td>NaN</td>\n",
       "      <td>3</td>\n",
       "      <td>...</td>\n",
       "      <td>NaN</td>\n",
       "      <td>NaN</td>\n",
       "      <td>NaN</td>\n",
       "      <td>NaN</td>\n",
       "      <td>NaN</td>\n",
       "      <td>NaN</td>\n",
       "      <td>NaN</td>\n",
       "      <td>NaN</td>\n",
       "      <td>NaN</td>\n",
       "      <td>NaN</td>\n",
       "    </tr>\n",
       "    <tr>\n",
       "      <th>4</th>\n",
       "      <td>5</td>\n",
       "      <td>4.5</td>\n",
       "      <td>NaN</td>\n",
       "      <td>NaN</td>\n",
       "      <td>NaN</td>\n",
       "      <td>5</td>\n",
       "      <td>NaN</td>\n",
       "      <td>NaN</td>\n",
       "      <td>NaN</td>\n",
       "      <td>4</td>\n",
       "      <td>...</td>\n",
       "      <td>4</td>\n",
       "      <td>NaN</td>\n",
       "      <td>NaN</td>\n",
       "      <td>NaN</td>\n",
       "      <td>NaN</td>\n",
       "      <td>NaN</td>\n",
       "      <td>NaN</td>\n",
       "      <td>NaN</td>\n",
       "      <td>NaN</td>\n",
       "      <td>NaN</td>\n",
       "    </tr>\n",
       "    <tr>\n",
       "      <th>5</th>\n",
       "      <td>4.5</td>\n",
       "      <td>4</td>\n",
       "      <td>NaN</td>\n",
       "      <td>NaN</td>\n",
       "      <td>NaN</td>\n",
       "      <td>4</td>\n",
       "      <td>NaN</td>\n",
       "      <td>NaN</td>\n",
       "      <td>3</td>\n",
       "      <td>3.5</td>\n",
       "      <td>...</td>\n",
       "      <td>NaN</td>\n",
       "      <td>NaN</td>\n",
       "      <td>NaN</td>\n",
       "      <td>NaN</td>\n",
       "      <td>NaN</td>\n",
       "      <td>NaN</td>\n",
       "      <td>4</td>\n",
       "      <td>NaN</td>\n",
       "      <td>NaN</td>\n",
       "      <td>NaN</td>\n",
       "    </tr>\n",
       "    <tr>\n",
       "      <th>...</th>\n",
       "      <td>...</td>\n",
       "      <td>...</td>\n",
       "      <td>...</td>\n",
       "      <td>...</td>\n",
       "      <td>...</td>\n",
       "      <td>...</td>\n",
       "      <td>...</td>\n",
       "      <td>...</td>\n",
       "      <td>...</td>\n",
       "      <td>...</td>\n",
       "      <td>...</td>\n",
       "      <td>...</td>\n",
       "      <td>...</td>\n",
       "      <td>...</td>\n",
       "      <td>...</td>\n",
       "      <td>...</td>\n",
       "      <td>...</td>\n",
       "      <td>...</td>\n",
       "      <td>...</td>\n",
       "      <td>...</td>\n",
       "      <td>...</td>\n",
       "    </tr>\n",
       "    <tr>\n",
       "      <th>2667</th>\n",
       "      <td>3</td>\n",
       "      <td>2.5</td>\n",
       "      <td>1.5</td>\n",
       "      <td>NaN</td>\n",
       "      <td>NaN</td>\n",
       "      <td>4.5</td>\n",
       "      <td>2</td>\n",
       "      <td>NaN</td>\n",
       "      <td>3</td>\n",
       "      <td>3.5</td>\n",
       "      <td>...</td>\n",
       "      <td>4.5</td>\n",
       "      <td>NaN</td>\n",
       "      <td>4</td>\n",
       "      <td>NaN</td>\n",
       "      <td>3.5</td>\n",
       "      <td>4.5</td>\n",
       "      <td>3</td>\n",
       "      <td>NaN</td>\n",
       "      <td>NaN</td>\n",
       "      <td>3.5</td>\n",
       "    </tr>\n",
       "    <tr>\n",
       "      <th>2668</th>\n",
       "      <td>4</td>\n",
       "      <td>1</td>\n",
       "      <td>NaN</td>\n",
       "      <td>NaN</td>\n",
       "      <td>NaN</td>\n",
       "      <td>3.5</td>\n",
       "      <td>3</td>\n",
       "      <td>NaN</td>\n",
       "      <td>NaN</td>\n",
       "      <td>NaN</td>\n",
       "      <td>...</td>\n",
       "      <td>NaN</td>\n",
       "      <td>NaN</td>\n",
       "      <td>NaN</td>\n",
       "      <td>NaN</td>\n",
       "      <td>3</td>\n",
       "      <td>NaN</td>\n",
       "      <td>NaN</td>\n",
       "      <td>NaN</td>\n",
       "      <td>NaN</td>\n",
       "      <td>3.5</td>\n",
       "    </tr>\n",
       "    <tr>\n",
       "      <th>2669</th>\n",
       "      <td>3</td>\n",
       "      <td>3</td>\n",
       "      <td>3.5</td>\n",
       "      <td>NaN</td>\n",
       "      <td>2</td>\n",
       "      <td>NaN</td>\n",
       "      <td>NaN</td>\n",
       "      <td>NaN</td>\n",
       "      <td>NaN</td>\n",
       "      <td>4</td>\n",
       "      <td>...</td>\n",
       "      <td>NaN</td>\n",
       "      <td>NaN</td>\n",
       "      <td>NaN</td>\n",
       "      <td>NaN</td>\n",
       "      <td>NaN</td>\n",
       "      <td>NaN</td>\n",
       "      <td>NaN</td>\n",
       "      <td>NaN</td>\n",
       "      <td>NaN</td>\n",
       "      <td>NaN</td>\n",
       "    </tr>\n",
       "    <tr>\n",
       "      <th>2670</th>\n",
       "      <td>4.5</td>\n",
       "      <td>NaN</td>\n",
       "      <td>NaN</td>\n",
       "      <td>NaN</td>\n",
       "      <td>NaN</td>\n",
       "      <td>3</td>\n",
       "      <td>NaN</td>\n",
       "      <td>NaN</td>\n",
       "      <td>NaN</td>\n",
       "      <td>NaN</td>\n",
       "      <td>...</td>\n",
       "      <td>NaN</td>\n",
       "      <td>NaN</td>\n",
       "      <td>NaN</td>\n",
       "      <td>2</td>\n",
       "      <td>4.5</td>\n",
       "      <td>NaN</td>\n",
       "      <td>NaN</td>\n",
       "      <td>NaN</td>\n",
       "      <td>NaN</td>\n",
       "      <td>1</td>\n",
       "    </tr>\n",
       "    <tr>\n",
       "      <th>2671</th>\n",
       "      <td>4.5</td>\n",
       "      <td>2.5</td>\n",
       "      <td>0.5</td>\n",
       "      <td>2</td>\n",
       "      <td>NaN</td>\n",
       "      <td>4.5</td>\n",
       "      <td>2</td>\n",
       "      <td>NaN</td>\n",
       "      <td>NaN</td>\n",
       "      <td>3.5</td>\n",
       "      <td>...</td>\n",
       "      <td>3</td>\n",
       "      <td>NaN</td>\n",
       "      <td>NaN</td>\n",
       "      <td>NaN</td>\n",
       "      <td>3.5</td>\n",
       "      <td>NaN</td>\n",
       "      <td>NaN</td>\n",
       "      <td>NaN</td>\n",
       "      <td>NaN</td>\n",
       "      <td>NaN</td>\n",
       "    </tr>\n",
       "  </tbody>\n",
       "</table>\n",
       "<p>2671 rows × 2153 columns</p>\n",
       "</div>"
      ],
      "text/plain": [
       "                                 Toy Story (1995)              Jumanji (1995)  \\\n",
       "1     Adventure|Animation|Children|Comedy|Fantasy  Adventure|Children|Fantasy   \n",
       "2                                             3.5                         3.5   \n",
       "3                                             2.5                         NaN   \n",
       "4                                               5                         4.5   \n",
       "5                                             4.5                           4   \n",
       "...                                           ...                         ...   \n",
       "2667                                            3                         2.5   \n",
       "2668                                            4                           1   \n",
       "2669                                            3                           3   \n",
       "2670                                          4.5                         NaN   \n",
       "2671                                          4.5                         2.5   \n",
       "\n",
       "     Grumpier Old Men (1995) Waiting to Exhale (1995)  \\\n",
       "1             Comedy|Romance     Comedy|Drama|Romance   \n",
       "2                          3                      NaN   \n",
       "3                        NaN                      NaN   \n",
       "4                        NaN                      NaN   \n",
       "5                        NaN                      NaN   \n",
       "...                      ...                      ...   \n",
       "2667                     1.5                      NaN   \n",
       "2668                     NaN                      NaN   \n",
       "2669                     3.5                      NaN   \n",
       "2670                     NaN                      NaN   \n",
       "2671                     0.5                        2   \n",
       "\n",
       "     Father of the Bride Part II (1995)            Heat (1995)  \\\n",
       "1                                Comedy  Action|Crime|Thriller   \n",
       "2                                   NaN                    NaN   \n",
       "3                                   NaN                      3   \n",
       "4                                   NaN                      5   \n",
       "5                                   NaN                      4   \n",
       "...                                 ...                    ...   \n",
       "2667                                NaN                    4.5   \n",
       "2668                                NaN                    3.5   \n",
       "2669                                  2                    NaN   \n",
       "2670                                NaN                      3   \n",
       "2671                                NaN                    4.5   \n",
       "\n",
       "      Sabrina (1995) Tom and Huck (1995) Sudden Death (1995)  \\\n",
       "1     Comedy|Romance  Adventure|Children              Action   \n",
       "2                NaN                 NaN                 NaN   \n",
       "3                NaN                 NaN                 NaN   \n",
       "4                NaN                 NaN                 NaN   \n",
       "5                NaN                 NaN                   3   \n",
       "...              ...                 ...                 ...   \n",
       "2667               2                 NaN                   3   \n",
       "2668               3                 NaN                 NaN   \n",
       "2669             NaN                 NaN                 NaN   \n",
       "2670             NaN                 NaN                 NaN   \n",
       "2671               2                 NaN                 NaN   \n",
       "\n",
       "               GoldenEye (1995)  ... Madame Sin (1972) Illegally Yours (1988)  \\\n",
       "1     Action|Adventure|Thriller  ...          Thriller         Comedy|Romance   \n",
       "2                           NaN  ...               NaN                    NaN   \n",
       "3                             3  ...               NaN                    NaN   \n",
       "4                             4  ...                 4                    NaN   \n",
       "5                           3.5  ...               NaN                    NaN   \n",
       "...                         ...  ...               ...                    ...   \n",
       "2667                        3.5  ...               4.5                    NaN   \n",
       "2668                        NaN  ...               NaN                    NaN   \n",
       "2669                          4  ...               NaN                    NaN   \n",
       "2670                        NaN  ...               NaN                    NaN   \n",
       "2671                        3.5  ...                 3                    NaN   \n",
       "\n",
       "     A Daughter's Nightmare (2014) Beside Still Waters (2013) Fallen (2005)  \\\n",
       "1           Drama|Mystery|Thriller         (no genres listed)         Drama   \n",
       "2                              NaN                        NaN           3.5   \n",
       "3                              NaN                        NaN           NaN   \n",
       "4                              NaN                        NaN           NaN   \n",
       "5                              NaN                        NaN           NaN   \n",
       "...                            ...                        ...           ...   \n",
       "2667                             4                        NaN           3.5   \n",
       "2668                           NaN                        NaN             3   \n",
       "2669                           NaN                        NaN           NaN   \n",
       "2670                           NaN                          2           4.5   \n",
       "2671                           NaN                        NaN           3.5   \n",
       "\n",
       "     The Brittany Murphy Story (2014) Up from the Depths (1979)  \\\n",
       "1                               Drama                    Horror   \n",
       "2                                 NaN                       NaN   \n",
       "3                                 NaN                       NaN   \n",
       "4                                 NaN                       NaN   \n",
       "5                                 NaN                         4   \n",
       "...                               ...                       ...   \n",
       "2667                              4.5                         3   \n",
       "2668                              NaN                       NaN   \n",
       "2669                              NaN                       NaN   \n",
       "2670                              NaN                       NaN   \n",
       "2671                              NaN                       NaN   \n",
       "\n",
       "           Tumult (2012) Love's Abiding Joy (2006)  \\\n",
       "1     (no genres listed)      Action|Drama|Romance   \n",
       "2                    NaN                       NaN   \n",
       "3                    NaN                       NaN   \n",
       "4                    NaN                       NaN   \n",
       "5                    NaN                       NaN   \n",
       "...                  ...                       ...   \n",
       "2667                 NaN                       NaN   \n",
       "2668                 NaN                       NaN   \n",
       "2669                 NaN                       NaN   \n",
       "2670                 NaN                       NaN   \n",
       "2671                 NaN                       NaN   \n",
       "\n",
       "     Bullyparade - Der Film (2017)  \n",
       "1                           Comedy  \n",
       "2                              NaN  \n",
       "3                              NaN  \n",
       "4                              NaN  \n",
       "5                              NaN  \n",
       "...                            ...  \n",
       "2667                           3.5  \n",
       "2668                           3.5  \n",
       "2669                           NaN  \n",
       "2670                             1  \n",
       "2671                           NaN  \n",
       "\n",
       "[2671 rows x 2153 columns]"
      ]
     },
     "execution_count": 2,
     "metadata": {},
     "output_type": "execute_result"
    }
   ],
   "source": [
    "movie_review_tibble = pd.read_csv(\"MovieReviewMat.csv\",index_col=0, low_memory=False)\n",
    "movie_review_tibble"
   ]
  },
  {
   "cell_type": "code",
   "execution_count": 3,
   "id": "53d9734b",
   "metadata": {},
   "outputs": [
    {
     "data": {
      "text/plain": [
       "array([[3.5, 3.5, 3. , ..., nan, nan, nan],\n",
       "       [2.5, nan, nan, ..., nan, nan, nan],\n",
       "       [5. , 4.5, nan, ..., nan, nan, nan],\n",
       "       ...,\n",
       "       [3. , 3. , 3.5, ..., nan, nan, nan],\n",
       "       [4.5, nan, nan, ..., nan, nan, 1. ],\n",
       "       [4.5, 2.5, 0.5, ..., nan, nan, nan]])"
      ]
     },
     "execution_count": 3,
     "metadata": {},
     "output_type": "execute_result"
    }
   ],
   "source": [
    "movie_review_names = np.array(movie_review_tibble.columns)\n",
    "movie_review_genre = np.array(movie_review_tibble.iloc[0])\n",
    "movie_review = np.array(movie_review_tibble.drop([1]), dtype=float)\n",
    "movie_review"
   ]
  },
  {
   "cell_type": "markdown",
   "id": "d4b5ce3d",
   "metadata": {},
   "source": [
    "Based on the results below, the singular highest and lowest review given to any film is 5 and 0.5, respectively.<br>\n",
    "\n",
    "The average review is about 3.30. Note that this average is also computed as `np.mean(np.nanmean(movie_review,axis=1))` - where `axis=1` means we're taking the average for each user review (across all movies that they did leave a review) first, then taking the mean across 2671 of such users. If we had done `axis=0`, we would be taking the average review **across all (2153) films** - which results in a slightly different number."
   ]
  },
  {
   "cell_type": "code",
   "execution_count": 4,
   "id": "6141f8bd",
   "metadata": {},
   "outputs": [
    {
     "name": "stdout",
     "output_type": "stream",
     "text": [
      "Highest review given = 5.0\n",
      "Lowest review given = 0.5\n",
      "Overall average review (across 2671 users) = 3.297080189685473\n"
     ]
    }
   ],
   "source": [
    "print(\"Highest review given = \" + str(np.nanmax(movie_review)))\n",
    "print(\"Lowest review given = \" + str(np.nanmin(movie_review)))\n",
    "print(\"Overall average review (across 2671 users) = \" + str(np.nanmean(movie_review)))"
   ]
  },
  {
   "cell_type": "markdown",
   "id": "f677ab7d",
   "metadata": {},
   "source": [
    "## Question b\n",
    "### User 1462\n",
    "For this user, there are 11 movies which they rate the highest possible score (5) - see below for the names of all 11 movies. <br>Across these 11 movies, the most common genre is **Drama** - it is present in all 11 movies"
   ]
  },
  {
   "cell_type": "code",
   "execution_count": 5,
   "id": "f1621e76",
   "metadata": {},
   "outputs": [
    {
     "name": "stdout",
     "output_type": "stream",
     "text": [
      "Taxi Driver (1976) Genre:Crime|Drama|Thriller\n",
      "Rob Roy (1995) Genre:Action|Drama|Romance|War\n",
      "Little Princess, A (1995) Genre:Children|Drama\n",
      "William Shakespeare's Romeo + Juliet (1996) Genre:Drama|Romance\n",
      "Quiet Man, The (1952) Genre:Drama|Romance\n",
      "Raging Bull (1980) Genre:Drama\n",
      "Pink Floyd: The Wall (1982) Genre:Drama|Musical\n",
      "Field of Dreams (1989) Genre:Children|Drama|Fantasy\n",
      "Man Who Would Be King, The (1975) Genre:Adventure|Drama\n",
      "Playing by Heart (1998) Genre:Drama|Romance\n",
      "War of the Worlds, The (1953) Genre:Action|Drama|Sci-Fi\n"
     ]
    }
   ],
   "source": [
    "user1462 = movie_review[1460] #user 1462\n",
    "index_review_1462 = np.where(user1462 == 5)[0] #len = 11\n",
    "\n",
    "for i in index_review_1462:\n",
    "    movie = movie_review_names[i]\n",
    "    print(movie + \" Genre:\" + movie_review_tibble.loc[1,movie]) #print name of movies along with genre"
   ]
  },
  {
   "cell_type": "markdown",
   "id": "cd8d7f5c",
   "metadata": {},
   "source": [
    "### User 45\n",
    "For this user, there are 5 movies which they rate the highest possible score (5) - see below for the names of all 5 movies. <br>Across these 5 movies, the most common genre is **Comedy** - it is present in all 11 movies. \n",
    "\n",
    "**Differences**: User 45 second-most common genre is Drama - which shares with User 1462. On the contrary, user 1462 doesn't have any Comedy movie in their list."
   ]
  },
  {
   "cell_type": "code",
   "execution_count": 6,
   "id": "1b3d6b7d",
   "metadata": {},
   "outputs": [
    {
     "name": "stdout",
     "output_type": "stream",
     "text": [
      "Jack (1996) Genre:Comedy|Drama\n",
      "Sting, The (1973) Genre:Comedy|Crime\n",
      "Groundhog Day (1993) Genre:Comedy|Fantasy|Romance\n",
      "Howard the Duck (1986) Genre:Adventure|Comedy|Sci-Fi\n",
      "Anywhere But Here (1999) Genre:Comedy|Drama\n"
     ]
    }
   ],
   "source": [
    "user45 = movie_review[43] #user 45\n",
    "index_review_5 = np.where(user45 == 5)[0] #len = 5\n",
    "\n",
    "for i in index_review_5:\n",
    "    movie = movie_review_names[i]\n",
    "    print(movie + \" Genre:\" + movie_review_tibble.loc[1,movie]) #print name of movies along with genre"
   ]
  },
  {
   "cell_type": "markdown",
   "id": "b2dd13c2",
   "metadata": {},
   "source": [
    "## Question c\n",
    "In terms of genre preference, I expect to see around as many types as there are genres. Like in question b and c, we can choose to look at \"preferences\" as the most common genre across an individual's most highly-rated movies. In this case, one individual can only have at most one \"genre preference\".\n",
    "\n",
    "If we take a look at the first row of the tibble (containing movie genres) and the answers in question b, there seems to be 19 in total (Action, Adventure, Animation, Children, Comedy, Crime, Documentary, Drama, Fantasy, Film-Noir, Horror, IMAX, Musical, Mystery, Romance, Sci-Fi, Thriller, War, Western). So I'd expect to see around this many types of of individuals.\n"
   ]
  },
  {
   "cell_type": "markdown",
   "id": "3c219f4d",
   "metadata": {},
   "source": [
    "## Question d"
   ]
  },
  {
   "cell_type": "code",
   "execution_count": 7,
   "id": "ca048c8a",
   "metadata": {},
   "outputs": [],
   "source": [
    "movie_review_0 = np.nan_to_num(movie_review, nan = 0) #impute missing values with 0\n",
    "\n",
    "#Creating a \"quick-SVD\" function\n",
    "def svd_reconstruct(M, k):    \n",
    "    u_full, s_full , vh_full = np.linalg.svd(M, full_matrices = False)\n",
    "    \n",
    "    #at the end we only return a subset of u,s,v_transpose - this subset is dictated by k: # of non-zero singular values\n",
    "    u = u_full[:,0:k] # (m x k) matrix - slicing only k-columns\n",
    "    s = s_full[0:k] # (k x k) square matrix - selecting k non-zero singular values\n",
    "    vh = vh_full[0:k,:] # (k x n) matrix - slicing only k-rows\n",
    "    \n",
    "    return u,s,vh\n",
    "\n",
    "#Getting the SVD with k=19\n",
    "u19,s19,vh19 = svd_reconstruct(movie_review_0,k=19)"
   ]
  },
  {
   "cell_type": "markdown",
   "id": "ee9f5eff",
   "metadata": {},
   "source": [
    "#### Rank-19 reconstruction (with zero padding)\n",
    "Based on my rank-19 reconstruction, the estimate of user 45 for the movie Jumanji is <ins>about 1.56.</ins>"
   ]
  },
  {
   "cell_type": "code",
   "execution_count": 8,
   "id": "76cc3f48",
   "metadata": {},
   "outputs": [
    {
     "name": "stdout",
     "output_type": "stream",
     "text": [
      "Estimate of user 45 for Jumanji = 1.5636012343776666\n"
     ]
    }
   ],
   "source": [
    "movie_review_reconstruct = u19 @ np.diag(s19) @ vh19\n",
    "print(\"Estimate of user 45 for Jumanji = \" + str(movie_review_reconstruct[43][1])) #review of user 45 of movie Jumanji "
   ]
  },
  {
   "cell_type": "markdown",
   "id": "9b60c28b",
   "metadata": {},
   "source": [
    "Furthermore, `difference_matrix` represents the difference for true (non-missing) values between this rank-19 reconstruction and the original `movie_review` matrix (i.e. $x_{true}-x_{recon}$). We can then compute the average difference, which is about <ins>1.71.</ins>\n"
   ]
  },
  {
   "cell_type": "code",
   "execution_count": 9,
   "id": "27e1a396",
   "metadata": {},
   "outputs": [
    {
     "name": "stdout",
     "output_type": "stream",
     "text": [
      "Total number of true non-missing values (N) = 1120381\n",
      "Avg difference (for true non-missing values) between review & reconstructed matrix = 1.7076311829456958\n"
     ]
    }
   ],
   "source": [
    "difference_matrix = movie_review - movie_review_reconstruct\n",
    "\n",
    "N = np.sum(~np.isnan(difference_matrix)) \n",
    "#total number of values 2670*2153                   = 5748510\n",
    "#total number of only non-missing (w/o nans) values = 1120381\n",
    "\n",
    "print(\"Total number of true non-missing values (N) = \" + str(N))\n",
    "print(\"Avg difference (for true non-missing values) between review & reconstructed matrix = \" \n",
    "      + str(math.sqrt(np.nansum(difference_matrix**2)/N)))"
   ]
  },
  {
   "cell_type": "markdown",
   "id": "ecaa066d",
   "metadata": {},
   "source": [
    "## Question e\n",
    "#### Imputing missing (nan) values via column-mean padding"
   ]
  },
  {
   "cell_type": "code",
   "execution_count": 10,
   "id": "96ad9106",
   "metadata": {},
   "outputs": [
    {
     "data": {
      "text/plain": [
       "(array([   0,    0,    0, ..., 2669, 2669, 2669], dtype=int64),\n",
       " array([   3,    4,    5, ..., 2150, 2151, 2152], dtype=int64))"
      ]
     },
     "execution_count": 10,
     "metadata": {},
     "output_type": "execute_result"
    }
   ],
   "source": [
    "col_mean = np.nanmean(movie_review,axis=0) #mean of each column\n",
    "row_col_coord = np.where(np.isnan(movie_review)) #first element tells us the row where there is a nan-values\n",
    "                                                    #second element tells us the column where there is a nan-values\n",
    "                                                    #together, each pair forms (row,column) coord of each nan-values\n",
    "row_col_coord"
   ]
  },
  {
   "cell_type": "code",
   "execution_count": 11,
   "id": "697d34d5",
   "metadata": {},
   "outputs": [],
   "source": [
    "movie_review_colpad = movie_review.copy()\n",
    "movie_review_colpad[row_col_coord] = np.take(col_mean,indices = row_col_coord[1])\n",
    "\n",
    "#movie_review[row_column_coord]: extract out only nan-values in matrix movie_review to fill in: 4628129 nan values like N above\n",
    "#np.take extracts out value from a particular array (col_mean in this case) based on certain indices\n",
    "## we can fill in going row by row (row-major order) - each row stopping at column of nan (using 2nd element of row_col_coord)"
   ]
  },
  {
   "cell_type": "markdown",
   "id": "318abfcd",
   "metadata": {},
   "source": [
    "#### Rank-19 reconstruction (with column-mean padding)\n",
    "Based on my rank-19 reconstruction, the estimate of user 45 for the movie Jumanji is <ins>about 2.41</ins>."
   ]
  },
  {
   "cell_type": "code",
   "execution_count": 12,
   "id": "05f62a00",
   "metadata": {},
   "outputs": [
    {
     "name": "stdout",
     "output_type": "stream",
     "text": [
      "Estimate of user 45 for Jumanji = 2.41212644534551\n"
     ]
    }
   ],
   "source": [
    "#Getting the SVD with k=19\n",
    "u19_col,s19_col,vh19_col = svd_reconstruct(movie_review_colpad,k=19)\n",
    "movie_review_reconstruct_2 = u19_col @ np.diag(s19_col) @ vh19_col\n",
    "print(\"Estimate of user 45 for Jumanji = \" + str(movie_review_reconstruct_2[43][1])) #review of user 45 of movie Jumanji "
   ]
  },
  {
   "cell_type": "markdown",
   "id": "798928b5",
   "metadata": {},
   "source": [
    "For this rank-19 reconstruction (with column-mean padding), the average difference in true (non-missing) values (i.e. $x_{true}-x_{recon}$) is <ins>about 0.76</ins>."
   ]
  },
  {
   "cell_type": "code",
   "execution_count": 13,
   "id": "f6a573f8",
   "metadata": {},
   "outputs": [
    {
     "name": "stdout",
     "output_type": "stream",
     "text": [
      "Total number of true non-missing values (N) = 1120381\n",
      "Avg difference (for true non-missing values) between review & reconstructed matrix = 0.7580686426265324\n"
     ]
    }
   ],
   "source": [
    "difference_matrix_2 = movie_review - movie_review_reconstruct_2\n",
    "\n",
    "print(\"Total number of true non-missing values (N) = \" + str(N))\n",
    "print(\"Avg difference (for true non-missing values) between review & reconstructed matrix = \" \n",
    "      + str(math.sqrt(np.nansum(difference_matrix_2**2)/N)))"
   ]
  },
  {
   "cell_type": "markdown",
   "id": "8f1cdda3",
   "metadata": {},
   "source": [
    "# Staff-Graded Section\n",
    "## Question f\n",
    "#### Imputing missing (nan) values via row-mean padding"
   ]
  },
  {
   "cell_type": "code",
   "execution_count": 14,
   "id": "bd82f180",
   "metadata": {},
   "outputs": [],
   "source": [
    "row_mean = np.nanmean(movie_review,axis=1)\n",
    "movie_review_rowpad = movie_review.copy()\n",
    "\n",
    "#we'll use the row_col_coord already created above\n",
    "movie_review_rowpad[row_col_coord] = np.take(row_mean,indices = row_col_coord[0])"
   ]
  },
  {
   "cell_type": "markdown",
   "id": "88b6b233",
   "metadata": {},
   "source": [
    "#### Rank-19 reconstruction (with row-mean padding)\n",
    "Based on my rank-19 reconstruction, the estimate of user 45 for the movie Jumanji is <ins>about 2.32<ins>."
   ]
  },
  {
   "cell_type": "code",
   "execution_count": 15,
   "id": "759e9251",
   "metadata": {},
   "outputs": [
    {
     "name": "stdout",
     "output_type": "stream",
     "text": [
      "Estimate of user 45 for Jumanji = 2.3178785730722566\n"
     ]
    }
   ],
   "source": [
    "#Getting the SVD with k=19\n",
    "u19_row,s19_row,vh19_row = svd_reconstruct(movie_review_rowpad,k=19)\n",
    "movie_review_reconstruct_3 = u19_row @ np.diag(s19_row) @ vh19_row\n",
    "print(\"Estimate of user 45 for Jumanji = \" + str(movie_review_reconstruct_3[43][1])) #review of user 45 of movie Jumanji "
   ]
  },
  {
   "cell_type": "markdown",
   "id": "904ee9a0",
   "metadata": {},
   "source": [
    "For this rank-19 reconstruction (with column-mean padding), the average difference in true (non-missing) values (i.e. $x_{true}-x_{recon}$) is <ins>about 0.77<ins>."
   ]
  },
  {
   "cell_type": "code",
   "execution_count": 16,
   "id": "0197b80b",
   "metadata": {},
   "outputs": [
    {
     "name": "stdout",
     "output_type": "stream",
     "text": [
      "Total number of true non-missing values (N) = 1120381\n",
      "Avg difference (for true non-missing values) between review & reconstructed matrix = 0.7733516498877452\n"
     ]
    }
   ],
   "source": [
    "difference_matrix_3 = movie_review - movie_review_reconstruct_3\n",
    "\n",
    "print(\"Total number of true non-missing values (N) = \" + str(N))\n",
    "print(\"Avg difference (for true non-missing values) between review & reconstructed matrix = \" \n",
    "      + str(math.sqrt(np.nansum(difference_matrix_3**2)/N)))"
   ]
  },
  {
   "cell_type": "markdown",
   "id": "367ac4a3",
   "metadata": {},
   "source": [
    "## Question g"
   ]
  },
  {
   "cell_type": "markdown",
   "id": "6be7d48c",
   "metadata": {},
   "source": [
    "#### Meaning of each imputation method\n",
    "**Zero-padding**: In this method, any missing values are replaced by 0. By doing so, it's equivalent to making the assumption that if a user doesn't rate a movie, then it is probably because they wouldn't enjoy watching it anyway. Consequently, 0 - the lowest possible rating score - is given. Furthermore, assigning 0 means we're strictly focusing on the true (observed) value. However, this impacts our matrix reconstruction more (see more below in the comparison section).\n",
    "\n",
    "**Column-mean padding**: In this method, any missing value <ins>for a given film</ins> us replaced by the average score (across all 2670 users) <ins>of said film</ins>. We're assuming that most people who watch film A (but didn't) would probably end up with opinions ranging somewhere in-between the already existing scores. Only a minor few would have extreme opinions, and these users probably have already rated film A had they felt so strongly about the move. Consequently, it makes sense to fill the \"silent majority\" with a metric that represents \"in-between opinions\": the arithmetic mean.\n",
    "\n",
    "**Row-mean padding**: Similar to column-mean padding, this method replace missing values with an arithmetic mean, but across 2153 film ratings <ins>of the same user</ins>. Here, we instead assume that for any given person, their missing scores should just be \"in-between\" because if they had felt more strongly about a particular film, they would have left a rating already.\n",
    "\n",
    "#### Comparison\n",
    "Based on the average difference metric ($x_{true}-x_{recon}$), zero-padding is least effective at reducing the difference, followed by row-mean, then column-mean (although for column-mean and row-mean the metrics differ only by about 0.015). Specifically: 1.707 > 0.773 > 0.758.\n",
    "\n",
    "In context, this makes sense because assigning 0 to all missing values is quite harsh - especially when the lowest singular rating is only 0.5 (identified in question a). No matter how terrible a movie is, people would be reluctant to give it a straight 0. And given that an indidual user have 2000+ film to rate, it is certain that we would have more 0 values than real values across the matrix if we used zero-padding (in fact the ratio of missing values to real values is 4:1). Consequently, our reconstructed matrix is \"dragged\" by the zero, impacting the average difference.\n",
    "\n",
    "#### Alternative method - the sample average\n",
    "Instead of calculating the average for each row or column, we can just use the sample average across the entire dataset. We calculate the sample average to be 3.297 (see below), and then assign 3.297 to every missing values. By doing so, we are again trying to represent the \"silent majority\" (instead of using an extreme value of 0) but this time regardless of movies and users. \n",
    "\n",
    "Because we're aggregating over the entire dataset, we may lose some nuance individual differences (in mean rating) between movies or users. Some movies may be too good and deserve a mean score significantly higher than 2.5, and vice versa. \n",
    "\n",
    "For all the above reasons, I expect this alternative method to be better than zero-padding but not as good as column-mean or row-mean padding. Indeed, the average difference (see below) is slightly higher (0.807 > 0.773 > 0.758)."
   ]
  },
  {
   "cell_type": "code",
   "execution_count": 17,
   "id": "07c5374d",
   "metadata": {},
   "outputs": [
    {
     "name": "stdout",
     "output_type": "stream",
     "text": [
      "Sample average = 3.297080189685473\n",
      "Avg difference (for true non-missing values) for alternative method = 0.8069912138996118\n"
     ]
    }
   ],
   "source": [
    "avg = np.nansum(movie_review)/N\n",
    "\n",
    "movie_review_alt = np.nan_to_num(movie_review, nan = avg) #impute missing values with 0\n",
    "u_alt,s_alt,vh_alt = svd_reconstruct(movie_review_alt,k=19)\n",
    "movie_review_recon_alt = u_alt @ np.diag(s_alt) @ vh_alt\n",
    "difference_matrix_alt = movie_review - movie_review_recon_alt\n",
    "\n",
    "print(\"Sample average = \" + str(avg))\n",
    "print(\"Avg difference (for true non-missing values) for alternative method = \" \n",
    "      + str(math.sqrt(np.nansum(difference_matrix_alt**2)/N)))"
   ]
  },
  {
   "cell_type": "markdown",
   "id": "45fd5b57",
   "metadata": {},
   "source": [
    "## Question h\n",
    "#### Non-negative Matrix Factorization (NMF) with K=19 components"
   ]
  },
  {
   "cell_type": "code",
   "execution_count": 18,
   "id": "ed15f3a9",
   "metadata": {},
   "outputs": [
    {
     "name": "stderr",
     "output_type": "stream",
     "text": [
      "C:\\Users\\tranq\\anaconda3\\lib\\site-packages\\sklearn\\decomposition\\_nmf.py:1090: ConvergenceWarning: Maximum number of iterations 200 reached. Increase it to improve convergence.\n",
      "  warnings.warn(\"Maximum number of iterations %d reached. Increase it to\"\n"
     ]
    }
   ],
   "source": [
    "NMF_model = NMF(n_components=19, init = 'random', random_state = 0, max_iter = 200) #create NMF model object\n",
    "\n",
    "U_19 = NMF_model.fit_transform(movie_review_colpad) #Ut.shape = (2670, 19): this is transformed movie_review w/ 19 components\n",
    "Vt_19 = NMF_model.components_ #Vt.shape = (19, 2153) for 19 NMF components (V_transpose)"
   ]
  },
  {
   "cell_type": "markdown",
   "id": "59fb88f6",
   "metadata": {},
   "source": [
    "#### `movie_review` reconstruction (with column-mean padding) using 19 NMF components\n",
    "In this 19-component NMF-based reconstruction, the estimate of user 45 for the movie Jumanji is <ins>about 2.39</ins>."
   ]
  },
  {
   "cell_type": "code",
   "execution_count": 19,
   "id": "39fc94ba",
   "metadata": {},
   "outputs": [
    {
     "name": "stdout",
     "output_type": "stream",
     "text": [
      "Estimate of user 45 for Jumanji = 2.3880948645121913\n"
     ]
    }
   ],
   "source": [
    "movie_review_reconstruct_19 = U_19 @ Vt_19\n",
    "print(\"Estimate of user 45 for Jumanji = \" + str(movie_review_reconstruct_19[43][1])) #review of user 45 of movie Jumanji "
   ]
  },
  {
   "cell_type": "markdown",
   "id": "96f34d55",
   "metadata": {},
   "source": [
    "In this 19-component NMF-based reconstruction, the average difference in true (non-missing) values (i.e. $x_{true}-x_{recon}$) is <ins>about 0.77</ins>.\n",
    "\n",
    "**Comparison to SVD-based average difference**: The average difference is <ins>almost identical</ins> to that found using SVD. The column-mean SVD has an average difference of 0.76. The row-mean SVD has an average difference 0.77. If we're splitting hairs, then this NMF has a worse average difference than column-mean SVD (0.768 > 0.758) and a better average difference than row-mean SVD (0.768 < 0.773)."
   ]
  },
  {
   "cell_type": "code",
   "execution_count": 20,
   "id": "68176b26",
   "metadata": {},
   "outputs": [
    {
     "name": "stdout",
     "output_type": "stream",
     "text": [
      "Total number of true non-missing values (N) = 1120381\n",
      "Avg difference (for true non-missing values) between review & reconstructed matrix = 0.7683549412326072\n"
     ]
    }
   ],
   "source": [
    "difference_matrix_19 = movie_review - movie_review_reconstruct_19\n",
    "\n",
    "print(\"Total number of true non-missing values (N) = \" + str(N))\n",
    "print(\"Avg difference (for true non-missing values) between review & reconstructed matrix = \" \n",
    "      + str(math.sqrt(np.nansum(difference_matrix_19**2)/N)))"
   ]
  },
  {
   "cell_type": "markdown",
   "id": "3d5cc4c9",
   "metadata": {},
   "source": [
    "## Question i"
   ]
  },
  {
   "cell_type": "markdown",
   "id": "a8fb2391",
   "metadata": {},
   "source": [
    "#### Reason for SVD:\n",
    "The left and right matrices from SVD are orthogonal, and the columns of U and V are <ins>linearly independent (i.e. globally orthonormal bases)</ins>. Because of this, we can achieve a low-rank approximation and avoid multicollinearity issue (i.e. movies correlated with each other). In a review dataset like this one where there are many product columns (movies) with somewhat overlapping characteristics (genres), we can get a very high-dimensional matrix. Consequently, the above-mentioned benefit of SVD is quite useful. \n",
    "\n",
    "#### Reason for NMF:\n",
    "An objective advantage NMF has over SVD is that it is more interpretable - and that is very true for this dataset. The NMF pick\n",
    "different parts of the dataset, and as a result our data would lie very close to a specific axis (i.e. dimension). We can visualize each data point as if it belongs to 1 single (or some combination of) dimension(s). If we are able to define our dimensions as separate categories, we'd be able to interpret the NMF components meaningfully. This is perfect for our `movie_review` because it already has a well-defined set of categories: genres.\n",
    "\n",
    "$\\implies$For this reason, <ins>I'd recommend using NMF</ins>, especially if we want to test different combinations of genres as separate dimensions (i.e. Comedy/Drama vs. Horror/Thriller) rather than just 19 singular genre (my intial approach)."
   ]
  },
  {
   "cell_type": "markdown",
   "id": "139ab018",
   "metadata": {},
   "source": [
    "## Question j\n",
    "#### Non-negative Matrix Factorization (NMF) with K=5 components"
   ]
  },
  {
   "cell_type": "code",
   "execution_count": 21,
   "id": "d9ce95b6",
   "metadata": {},
   "outputs": [
    {
     "name": "stderr",
     "output_type": "stream",
     "text": [
      "C:\\Users\\tranq\\anaconda3\\lib\\site-packages\\sklearn\\decomposition\\_nmf.py:1090: ConvergenceWarning: Maximum number of iterations 200 reached. Increase it to improve convergence.\n",
      "  warnings.warn(\"Maximum number of iterations %d reached. Increase it to\"\n"
     ]
    }
   ],
   "source": [
    "NMF_model_5 = NMF(n_components=5, init = 'random', random_state = 0, max_iter = 200) #create NMF model object\n",
    "\n",
    "U_5 = NMF_model_5.fit_transform(movie_review_colpad) \n",
    "Vt_5 = NMF_model_5.components_ \n",
    "\n",
    "#Reconstruct\n",
    "movie_review_reconstruct_5 = U_5 @ Vt_5"
   ]
  },
  {
   "cell_type": "markdown",
   "id": "9a641903",
   "metadata": {},
   "source": [
    "#### Recommender system - Top 1% \n",
    "For the recommendations, let's first find the movies in the 99th perecentile using the reconstructed ratings of user1462. There are 22 movies in the \"top 1%\". \n",
    "\n",
    "Additionally, I filtered out the movies that user1462 had already seen/rated - which are \"The Usual Suspects\", \"I Love Trouble\", \"South Park\", and \"An Andalusian Dog\". So we're down to 18 movies."
   ]
  },
  {
   "cell_type": "code",
   "execution_count": 22,
   "id": "c0ed4ec7",
   "metadata": {},
   "outputs": [
    {
     "data": {
      "text/html": [
       "<div>\n",
       "<style scoped>\n",
       "    .dataframe tbody tr th:only-of-type {\n",
       "        vertical-align: middle;\n",
       "    }\n",
       "\n",
       "    .dataframe tbody tr th {\n",
       "        vertical-align: top;\n",
       "    }\n",
       "\n",
       "    .dataframe thead th {\n",
       "        text-align: right;\n",
       "    }\n",
       "</style>\n",
       "<table border=\"1\" class=\"dataframe\">\n",
       "  <thead>\n",
       "    <tr style=\"text-align: right;\">\n",
       "      <th></th>\n",
       "      <th>Movie Recommended</th>\n",
       "      <th>Genre</th>\n",
       "      <th>Rating Reconstruct</th>\n",
       "    </tr>\n",
       "  </thead>\n",
       "  <tbody>\n",
       "    <tr>\n",
       "      <th>0</th>\n",
       "      <td>Before Sunset (2004)</td>\n",
       "      <td>Drama|Romance</td>\n",
       "      <td>4.067384</td>\n",
       "    </tr>\n",
       "    <tr>\n",
       "      <th>1</th>\n",
       "      <td>K-PAX (2001)</td>\n",
       "      <td>Drama|Fantasy|Mystery|Sci-Fi</td>\n",
       "      <td>3.976258</td>\n",
       "    </tr>\n",
       "    <tr>\n",
       "      <th>2</th>\n",
       "      <td>Nine to Five (a.k.a. 9 to 5) (1980)</td>\n",
       "      <td>Comedy|Crime</td>\n",
       "      <td>3.936378</td>\n",
       "    </tr>\n",
       "    <tr>\n",
       "      <th>3</th>\n",
       "      <td>Reindeer Games (2000)</td>\n",
       "      <td>Action|Thriller</td>\n",
       "      <td>3.910926</td>\n",
       "    </tr>\n",
       "    <tr>\n",
       "      <th>4</th>\n",
       "      <td>My Dog Skip (1999)</td>\n",
       "      <td>Children|Drama</td>\n",
       "      <td>3.903575</td>\n",
       "    </tr>\n",
       "    <tr>\n",
       "      <th>5</th>\n",
       "      <td>The Falcon and the Snowman (1985)</td>\n",
       "      <td>Crime|Drama|Thriller</td>\n",
       "      <td>3.902192</td>\n",
       "    </tr>\n",
       "    <tr>\n",
       "      <th>6</th>\n",
       "      <td>Gothika (2003)</td>\n",
       "      <td>Horror|Thriller</td>\n",
       "      <td>3.896596</td>\n",
       "    </tr>\n",
       "    <tr>\n",
       "      <th>7</th>\n",
       "      <td>Wild at Heart (1990)</td>\n",
       "      <td>Crime|Drama|Mystery|Romance|Thriller</td>\n",
       "      <td>3.869991</td>\n",
       "    </tr>\n",
       "    <tr>\n",
       "      <th>8</th>\n",
       "      <td>Slums of Beverly Hills, The (1998)</td>\n",
       "      <td>Comedy|Drama</td>\n",
       "      <td>3.866889</td>\n",
       "    </tr>\n",
       "    <tr>\n",
       "      <th>9</th>\n",
       "      <td>Tales from the Hood (1995)</td>\n",
       "      <td>Action|Crime|Horror</td>\n",
       "      <td>3.865597</td>\n",
       "    </tr>\n",
       "    <tr>\n",
       "      <th>10</th>\n",
       "      <td>Red Heat (1988)</td>\n",
       "      <td>Action</td>\n",
       "      <td>3.862120</td>\n",
       "    </tr>\n",
       "    <tr>\n",
       "      <th>11</th>\n",
       "      <td>Under the Tuscan Sun (2003)</td>\n",
       "      <td>Comedy|Drama|Romance</td>\n",
       "      <td>3.854656</td>\n",
       "    </tr>\n",
       "    <tr>\n",
       "      <th>12</th>\n",
       "      <td>Sideways (2004)</td>\n",
       "      <td>Comedy|Drama|Romance</td>\n",
       "      <td>3.848307</td>\n",
       "    </tr>\n",
       "    <tr>\n",
       "      <th>13</th>\n",
       "      <td>Good Girl, The (2002)</td>\n",
       "      <td>Comedy|Drama</td>\n",
       "      <td>3.847080</td>\n",
       "    </tr>\n",
       "    <tr>\n",
       "      <th>14</th>\n",
       "      <td>Gorillas in the Mist (1988)</td>\n",
       "      <td>Drama</td>\n",
       "      <td>3.846345</td>\n",
       "    </tr>\n",
       "    <tr>\n",
       "      <th>15</th>\n",
       "      <td>Dreamers, The (2003)</td>\n",
       "      <td>Drama</td>\n",
       "      <td>3.845918</td>\n",
       "    </tr>\n",
       "    <tr>\n",
       "      <th>16</th>\n",
       "      <td>To Have and Have Not (1944)</td>\n",
       "      <td>Adventure|Drama|Romance|Thriller|War</td>\n",
       "      <td>3.845425</td>\n",
       "    </tr>\n",
       "    <tr>\n",
       "      <th>17</th>\n",
       "      <td>Day of the Dead (1985)</td>\n",
       "      <td>Horror|Sci-Fi|Thriller</td>\n",
       "      <td>3.841003</td>\n",
       "    </tr>\n",
       "  </tbody>\n",
       "</table>\n",
       "</div>"
      ],
      "text/plain": [
       "                      Movie Recommended                                 Genre  \\\n",
       "0                  Before Sunset (2004)                         Drama|Romance   \n",
       "1                          K-PAX (2001)          Drama|Fantasy|Mystery|Sci-Fi   \n",
       "2   Nine to Five (a.k.a. 9 to 5) (1980)                          Comedy|Crime   \n",
       "3                 Reindeer Games (2000)                       Action|Thriller   \n",
       "4                    My Dog Skip (1999)                        Children|Drama   \n",
       "5     The Falcon and the Snowman (1985)                  Crime|Drama|Thriller   \n",
       "6                        Gothika (2003)                       Horror|Thriller   \n",
       "7                  Wild at Heart (1990)  Crime|Drama|Mystery|Romance|Thriller   \n",
       "8    Slums of Beverly Hills, The (1998)                          Comedy|Drama   \n",
       "9            Tales from the Hood (1995)                   Action|Crime|Horror   \n",
       "10                      Red Heat (1988)                                Action   \n",
       "11          Under the Tuscan Sun (2003)                  Comedy|Drama|Romance   \n",
       "12                      Sideways (2004)                  Comedy|Drama|Romance   \n",
       "13                Good Girl, The (2002)                          Comedy|Drama   \n",
       "14          Gorillas in the Mist (1988)                                 Drama   \n",
       "15                 Dreamers, The (2003)                                 Drama   \n",
       "16          To Have and Have Not (1944)  Adventure|Drama|Romance|Thriller|War   \n",
       "17               Day of the Dead (1985)                Horror|Sci-Fi|Thriller   \n",
       "\n",
       "    Rating Reconstruct  \n",
       "0             4.067384  \n",
       "1             3.976258  \n",
       "2             3.936378  \n",
       "3             3.910926  \n",
       "4             3.903575  \n",
       "5             3.902192  \n",
       "6             3.896596  \n",
       "7             3.869991  \n",
       "8             3.866889  \n",
       "9             3.865597  \n",
       "10            3.862120  \n",
       "11            3.854656  \n",
       "12            3.848307  \n",
       "13            3.847080  \n",
       "14            3.846345  \n",
       "15            3.845918  \n",
       "16            3.845425  \n",
       "17            3.841003  "
      ]
     },
     "execution_count": 22,
     "metadata": {},
     "output_type": "execute_result"
    }
   ],
   "source": [
    "user1462_rec = movie_review_reconstruct_5[1460] #user1462\n",
    "top_1 = np.where(user1462_rec > np.quantile(user1462_rec,0.99))[0] #indices where a movie is in top 1% for user1462\n",
    "top_movie, top_genre, top_score = [],[],[]\n",
    "\n",
    "#For-loop to check and store data for movies that meet the criteria\n",
    "for i in top_1:\n",
    "    movie = movie_review_names[i]\n",
    "    genre = movie_review_genre[i]\n",
    "    score = user1462[i]\n",
    "    \n",
    "    if math.isnan(score):\n",
    "        top_movie.append(movie), top_genre.append(genre), top_score.append(user1462_rec[i])\n",
    "\n",
    "#Create data frame containing movies recommended\n",
    "rec_data = pd.DataFrame({'Movie Recommended':top_movie,\n",
    "                         'Genre':top_genre,\n",
    "                         'Rating Reconstruct':top_score})\n",
    "rec_data = rec_data.sort_values(by=['Rating Reconstruct'],ascending=False).reset_index(drop=True)\n",
    "rec_data"
   ]
  },
  {
   "cell_type": "markdown",
   "id": "c5842cc2",
   "metadata": {},
   "source": [
    "**$\\implies$** The above dataset orders the movies by their respective reconstructed ratings. <ins>I'd recommend \"Before Sunset\", \"K-PAX\", and \"Nine to Five\" as the top three to user1462.</ins> \n",
    "\n",
    "**Evaluation**: The 2nd and 3rd highest movie (\"K-PAX\" and \"Nine to Five\") do not align with my expectations because their respective genres (Mystery/Scifi and Comedy) are not even in the set of genre (see below) belonging to the 5-rated movies that user1462 originally had (question b). Because genre of a movie is important to a person's likings, recommend \"K-PAX\" and \"Nine to Five\" may backfire. Therefore, let's see if we can find a movie that is in the \"top 1%\" and also caters to user1462 preferences.\n",
    "\n",
    "#### Additional Recommendations\n",
    "First, I created a set that contains all 11 genres belonging to user1462's favorite movies."
   ]
  },
  {
   "cell_type": "code",
   "execution_count": 23,
   "id": "3fb25d36",
   "metadata": {},
   "outputs": [
    {
     "name": "stdout",
     "output_type": "stream",
     "text": [
      "{'Adventure', 'Thriller', 'War', 'Children', 'Fantasy', 'Action', 'Sci-Fi', 'Drama', 'Crime', 'Musical', 'Romance'}\n"
     ]
    }
   ],
   "source": [
    "genre_rec = set()\n",
    "\n",
    "for i in index_review_1462:\n",
    "    genre = movie_review_genre[i]\n",
    "    genre_list = genre.split('|')\n",
    "    for genre in genre_list:\n",
    "        genre_rec.add(genre)\n",
    "\n",
    "print(genre_rec)"
   ]
  },
  {
   "cell_type": "markdown",
   "id": "17d33494",
   "metadata": {},
   "source": [
    "Let' filter for any \"top 1%\" movie that shares these genre. The condition is strict: if a movie has more than one genre, all of those genres must be in common with this set."
   ]
  },
  {
   "cell_type": "code",
   "execution_count": 24,
   "id": "84ab7902",
   "metadata": {},
   "outputs": [
    {
     "data": {
      "text/html": [
       "<div>\n",
       "<style scoped>\n",
       "    .dataframe tbody tr th:only-of-type {\n",
       "        vertical-align: middle;\n",
       "    }\n",
       "\n",
       "    .dataframe tbody tr th {\n",
       "        vertical-align: top;\n",
       "    }\n",
       "\n",
       "    .dataframe thead th {\n",
       "        text-align: right;\n",
       "    }\n",
       "</style>\n",
       "<table border=\"1\" class=\"dataframe\">\n",
       "  <thead>\n",
       "    <tr style=\"text-align: right;\">\n",
       "      <th></th>\n",
       "      <th>Movie Recommended</th>\n",
       "      <th>Genre</th>\n",
       "      <th>Rating Reconstruct</th>\n",
       "    </tr>\n",
       "  </thead>\n",
       "  <tbody>\n",
       "    <tr>\n",
       "      <th>0</th>\n",
       "      <td>Before Sunset (2004)</td>\n",
       "      <td>Drama|Romance</td>\n",
       "      <td>4.067384</td>\n",
       "    </tr>\n",
       "    <tr>\n",
       "      <th>1</th>\n",
       "      <td>Reindeer Games (2000)</td>\n",
       "      <td>Action|Thriller</td>\n",
       "      <td>3.910926</td>\n",
       "    </tr>\n",
       "    <tr>\n",
       "      <th>2</th>\n",
       "      <td>My Dog Skip (1999)</td>\n",
       "      <td>Children|Drama</td>\n",
       "      <td>3.903575</td>\n",
       "    </tr>\n",
       "    <tr>\n",
       "      <th>3</th>\n",
       "      <td>The Falcon and the Snowman (1985)</td>\n",
       "      <td>Crime|Drama|Thriller</td>\n",
       "      <td>3.902192</td>\n",
       "    </tr>\n",
       "    <tr>\n",
       "      <th>4</th>\n",
       "      <td>Red Heat (1988)</td>\n",
       "      <td>Action</td>\n",
       "      <td>3.862120</td>\n",
       "    </tr>\n",
       "    <tr>\n",
       "      <th>5</th>\n",
       "      <td>Gorillas in the Mist (1988)</td>\n",
       "      <td>Drama</td>\n",
       "      <td>3.846345</td>\n",
       "    </tr>\n",
       "    <tr>\n",
       "      <th>6</th>\n",
       "      <td>Dreamers, The (2003)</td>\n",
       "      <td>Drama</td>\n",
       "      <td>3.845918</td>\n",
       "    </tr>\n",
       "    <tr>\n",
       "      <th>7</th>\n",
       "      <td>To Have and Have Not (1944)</td>\n",
       "      <td>Adventure|Drama|Romance|Thriller|War</td>\n",
       "      <td>3.845425</td>\n",
       "    </tr>\n",
       "  </tbody>\n",
       "</table>\n",
       "</div>"
      ],
      "text/plain": [
       "                   Movie Recommended                                 Genre  \\\n",
       "0               Before Sunset (2004)                         Drama|Romance   \n",
       "1              Reindeer Games (2000)                       Action|Thriller   \n",
       "2                 My Dog Skip (1999)                        Children|Drama   \n",
       "3  The Falcon and the Snowman (1985)                  Crime|Drama|Thriller   \n",
       "4                    Red Heat (1988)                                Action   \n",
       "5        Gorillas in the Mist (1988)                                 Drama   \n",
       "6               Dreamers, The (2003)                                 Drama   \n",
       "7        To Have and Have Not (1944)  Adventure|Drama|Romance|Thriller|War   \n",
       "\n",
       "   Rating Reconstruct  \n",
       "0            4.067384  \n",
       "1            3.910926  \n",
       "2            3.903575  \n",
       "3            3.902192  \n",
       "4            3.862120  \n",
       "5            3.846345  \n",
       "6            3.845918  \n",
       "7            3.845425  "
      ]
     },
     "execution_count": 24,
     "metadata": {},
     "output_type": "execute_result"
    }
   ],
   "source": [
    "top_movie, top_genre, top_score = [],[],[]\n",
    "\n",
    "#For-loop to check and store data for movies that meet the criteria\n",
    "for i in top_1:\n",
    "    movie = movie_review_names[i]\n",
    "    genre = movie_review_genre[i]\n",
    "    score = user1462[i]\n",
    "    genre_list = genre.split('|')\n",
    "    \n",
    "    if all(genre in genre_rec for genre in genre_list) and math.isnan(score): \n",
    "        top_movie.append(movie), top_genre.append(genre), top_score.append(user1462_rec[i])\n",
    "        #filter for only movies with all genre in common w/ 5-rated list and user1462 has not yet seen\n",
    "\n",
    "#Create data frame containing movies recommended\n",
    "rec_data = pd.DataFrame({'Movie Recommended':top_movie,\n",
    "                         'Genre':top_genre,\n",
    "                         'Rating Reconstruct':top_score})\n",
    "rec_data = rec_data.sort_values(by=['Rating Reconstruct'],ascending=False).reset_index(drop=True)\n",
    "rec_data"
   ]
  },
  {
   "cell_type": "markdown",
   "id": "25f4d0d2",
   "metadata": {},
   "source": [
    "$\\implies$ Now, \"K-PAX\" and \"Nine to Five\" has been replaced by \"Reindeer Games\" and \"My Dog Skip\" - both of which are immediately below in the original ranking. \n",
    "\n",
    "#### Conclusion: \n",
    "I'd still recommend **<ins>\"Before Sunset\", \"K-PAX\", and \"Nine to Five\" as the top three</ins>** first, but I'd also propose <ins>\"Before Sunset\", \"Reindeer Games\" and \"My Dog Skip\" as an alternative</ins> top three because their categories are all in-common with user1462's original top-rated films."
   ]
  },
  {
   "cell_type": "markdown",
   "id": "21adeb63",
   "metadata": {},
   "source": [
    "## Question k\n",
    "#### Soft imputation\n",
    "First, let's implement the soft imputation algorithm using a 100-iteration for-loop:"
   ]
  },
  {
   "cell_type": "code",
   "execution_count": 25,
   "id": "a3def7d8",
   "metadata": {},
   "outputs": [],
   "source": [
    "#Iteration t=0: initialize intermediate matrix Y with NaN = 0\n",
    "Y_next = np.nan_to_num(movie_review, nan = 0)\n",
    "lambda_pen = 100\n",
    "\n",
    "for iteration in range(0,100):\n",
    "    u5,s5,vh5 = svd_reconstruct(Y_next,k=5)\n",
    "    \n",
    "    #Applying soft imputation using penalty lambda = 100\n",
    "    for i in range(len(s5)):\n",
    "        \n",
    "        if s5[i] > lambda_pen:\n",
    "            s5[i] = s5[i] - lambda_pen\n",
    "        else:\n",
    "            s5[i] = 0\n",
    "    #Reconstruct Z^(t+1) for next iteration\n",
    "    Z_next = u5 @ np.diag(s5) @ vh5\n",
    "    \n",
    "    #Iteration (t+1): fill missing values in movie_review w/ recon values in Z_next above\n",
    "    next_iter = pd.DataFrame(movie_review).fillna(pd.DataFrame(Z_next))\n",
    "    Y_next = np.array(next_iter,dtype=float)"
   ]
  },
  {
   "cell_type": "markdown",
   "id": "ee960a60",
   "metadata": {},
   "source": [
    "Now, in the final iteration (100), our last reconstructed matrix - `Z_next` - will be the one we used to find top three movie to recommend to user45.\n",
    "\n",
    "#### Recommender system - Top 3% \n",
    "Again, like in question j, let's first find the movies in the 97th perecentile using the reconstructed ratings of user45. For this user, I expanded my search to the \"top 3%\" because the 99th percentile (\"top 1%\") only yielded 2 movies.\n",
    "\n",
    "There are 83 movies in the \"top 3%\". However, after filtering out the movies that user45 had already seen/rated, we're left with 18 movies."
   ]
  },
  {
   "cell_type": "code",
   "execution_count": 26,
   "id": "f1ed165f",
   "metadata": {},
   "outputs": [
    {
     "data": {
      "text/html": [
       "<div>\n",
       "<style scoped>\n",
       "    .dataframe tbody tr th:only-of-type {\n",
       "        vertical-align: middle;\n",
       "    }\n",
       "\n",
       "    .dataframe tbody tr th {\n",
       "        vertical-align: top;\n",
       "    }\n",
       "\n",
       "    .dataframe thead th {\n",
       "        text-align: right;\n",
       "    }\n",
       "</style>\n",
       "<table border=\"1\" class=\"dataframe\">\n",
       "  <thead>\n",
       "    <tr style=\"text-align: right;\">\n",
       "      <th></th>\n",
       "      <th>Movie Recommended</th>\n",
       "      <th>Genre</th>\n",
       "      <th>Rating Reconstruct</th>\n",
       "    </tr>\n",
       "  </thead>\n",
       "  <tbody>\n",
       "    <tr>\n",
       "      <th>0</th>\n",
       "      <td>Ghost and Mrs. Muir, The (1947)</td>\n",
       "      <td>Drama|Fantasy|Romance</td>\n",
       "      <td>3.585019</td>\n",
       "    </tr>\n",
       "    <tr>\n",
       "      <th>1</th>\n",
       "      <td>2001: A Space Odyssey (1968)</td>\n",
       "      <td>Adventure|Drama|Sci-Fi</td>\n",
       "      <td>3.550058</td>\n",
       "    </tr>\n",
       "    <tr>\n",
       "      <th>2</th>\n",
       "      <td>M (1931)</td>\n",
       "      <td>Crime|Film-Noir|Thriller</td>\n",
       "      <td>3.471073</td>\n",
       "    </tr>\n",
       "    <tr>\n",
       "      <th>3</th>\n",
       "      <td>Laura (1944)</td>\n",
       "      <td>Crime|Film-Noir|Mystery</td>\n",
       "      <td>3.470487</td>\n",
       "    </tr>\n",
       "    <tr>\n",
       "      <th>4</th>\n",
       "      <td>Rebecca (1940)</td>\n",
       "      <td>Drama|Mystery|Romance|Thriller</td>\n",
       "      <td>3.452290</td>\n",
       "    </tr>\n",
       "    <tr>\n",
       "      <th>5</th>\n",
       "      <td>Dead Alive (Braindead) (1992)</td>\n",
       "      <td>Comedy|Fantasy|Horror</td>\n",
       "      <td>3.438308</td>\n",
       "    </tr>\n",
       "    <tr>\n",
       "      <th>6</th>\n",
       "      <td>Apocalypse Now (1979)</td>\n",
       "      <td>Action|Drama|War</td>\n",
       "      <td>3.429554</td>\n",
       "    </tr>\n",
       "    <tr>\n",
       "      <th>7</th>\n",
       "      <td>Harold and Maude (1971)</td>\n",
       "      <td>Comedy|Drama|Romance</td>\n",
       "      <td>3.423441</td>\n",
       "    </tr>\n",
       "    <tr>\n",
       "      <th>8</th>\n",
       "      <td>Killing Fields, The (1984)</td>\n",
       "      <td>Drama|War</td>\n",
       "      <td>3.418505</td>\n",
       "    </tr>\n",
       "    <tr>\n",
       "      <th>9</th>\n",
       "      <td>American Werewolf in London, An (1981)</td>\n",
       "      <td>Comedy|Horror|Thriller</td>\n",
       "      <td>3.380248</td>\n",
       "    </tr>\n",
       "    <tr>\n",
       "      <th>10</th>\n",
       "      <td>Better Off Dead... (1985)</td>\n",
       "      <td>Comedy|Romance</td>\n",
       "      <td>3.372851</td>\n",
       "    </tr>\n",
       "    <tr>\n",
       "      <th>11</th>\n",
       "      <td>Being There (1979)</td>\n",
       "      <td>Comedy|Drama</td>\n",
       "      <td>3.342717</td>\n",
       "    </tr>\n",
       "    <tr>\n",
       "      <th>12</th>\n",
       "      <td>Local Hero (1983)</td>\n",
       "      <td>Comedy</td>\n",
       "      <td>3.338226</td>\n",
       "    </tr>\n",
       "    <tr>\n",
       "      <th>13</th>\n",
       "      <td>Femme Nikita, La (Nikita) (1990)</td>\n",
       "      <td>Action|Crime|Romance|Thriller</td>\n",
       "      <td>3.326349</td>\n",
       "    </tr>\n",
       "    <tr>\n",
       "      <th>14</th>\n",
       "      <td>Police Academy (1984)</td>\n",
       "      <td>Comedy|Crime</td>\n",
       "      <td>3.318873</td>\n",
       "    </tr>\n",
       "    <tr>\n",
       "      <th>15</th>\n",
       "      <td>Saving Grace (2000)</td>\n",
       "      <td>Comedy</td>\n",
       "      <td>3.318026</td>\n",
       "    </tr>\n",
       "    <tr>\n",
       "      <th>16</th>\n",
       "      <td>To Catch a Thief (1955)</td>\n",
       "      <td>Crime|Mystery|Romance|Thriller</td>\n",
       "      <td>3.312605</td>\n",
       "    </tr>\n",
       "    <tr>\n",
       "      <th>17</th>\n",
       "      <td>Somewhere in Time (1980)</td>\n",
       "      <td>Drama|Romance</td>\n",
       "      <td>3.306100</td>\n",
       "    </tr>\n",
       "  </tbody>\n",
       "</table>\n",
       "</div>"
      ],
      "text/plain": [
       "                         Movie Recommended                           Genre  \\\n",
       "0          Ghost and Mrs. Muir, The (1947)           Drama|Fantasy|Romance   \n",
       "1             2001: A Space Odyssey (1968)          Adventure|Drama|Sci-Fi   \n",
       "2                                 M (1931)        Crime|Film-Noir|Thriller   \n",
       "3                             Laura (1944)         Crime|Film-Noir|Mystery   \n",
       "4                           Rebecca (1940)  Drama|Mystery|Romance|Thriller   \n",
       "5            Dead Alive (Braindead) (1992)           Comedy|Fantasy|Horror   \n",
       "6                    Apocalypse Now (1979)                Action|Drama|War   \n",
       "7                  Harold and Maude (1971)            Comedy|Drama|Romance   \n",
       "8               Killing Fields, The (1984)                       Drama|War   \n",
       "9   American Werewolf in London, An (1981)          Comedy|Horror|Thriller   \n",
       "10               Better Off Dead... (1985)                  Comedy|Romance   \n",
       "11                      Being There (1979)                    Comedy|Drama   \n",
       "12                       Local Hero (1983)                          Comedy   \n",
       "13        Femme Nikita, La (Nikita) (1990)   Action|Crime|Romance|Thriller   \n",
       "14                   Police Academy (1984)                    Comedy|Crime   \n",
       "15                     Saving Grace (2000)                          Comedy   \n",
       "16                 To Catch a Thief (1955)  Crime|Mystery|Romance|Thriller   \n",
       "17                Somewhere in Time (1980)                   Drama|Romance   \n",
       "\n",
       "    Rating Reconstruct  \n",
       "0             3.585019  \n",
       "1             3.550058  \n",
       "2             3.471073  \n",
       "3             3.470487  \n",
       "4             3.452290  \n",
       "5             3.438308  \n",
       "6             3.429554  \n",
       "7             3.423441  \n",
       "8             3.418505  \n",
       "9             3.380248  \n",
       "10            3.372851  \n",
       "11            3.342717  \n",
       "12            3.338226  \n",
       "13            3.326349  \n",
       "14            3.318873  \n",
       "15            3.318026  \n",
       "16            3.312605  \n",
       "17            3.306100  "
      ]
     },
     "execution_count": 26,
     "metadata": {},
     "output_type": "execute_result"
    }
   ],
   "source": [
    "Z_final = Z_next #the latest Z_next represents our final reconstructed matrix that will be used to recommend movies\n",
    "user45_rec = Z_final[43] #user1462\n",
    "top_3 = np.where(user45_rec > np.quantile(user45_rec,0.97))[0] #indices where a movie is in top 1% for user1462\n",
    "top_movie, top_genre, top_score = [],[],[]\n",
    "\n",
    "#For-loop to check and store data for movies that meet the criteria\n",
    "for i in top_3:\n",
    "    movie = movie_review_names[i]\n",
    "    genre = movie_review_genre[i]\n",
    "    score = user45[i] #this is original score not reconstructed score\n",
    "    \n",
    "    if math.isnan(score):\n",
    "        top_movie.append(movie), top_genre.append(genre), top_score.append(user45_rec[i])\n",
    "\n",
    "#Create data frame containing movies recommended\n",
    "rec_data = pd.DataFrame({'Movie Recommended':top_movie,\n",
    "                         'Genre':top_genre,\n",
    "                         'Rating Reconstruct':top_score})\n",
    "rec_data = rec_data.sort_values(by=['Rating Reconstruct'],ascending=False).reset_index(drop=True)\n",
    "rec_data"
   ]
  },
  {
   "cell_type": "markdown",
   "id": "a2caabd2",
   "metadata": {},
   "source": [
    "**$\\implies$** The above dataset orders the movies by their respective reconstructed ratings. <ins>I'd recommend \"The Ghost and Mrs. Muir\", \"2001: A Space Odyssey\", and \"M\" as the top three to user45.</ins> \n",
    "\n",
    "**Evaluation**: Only the 3rd highest movie (\"M\") do not align with my expectations because two of its genre (Film-Noir and Thriller) are not even in the set of genre (see below) belonging to the 5-rated movies that user45 originally had (question b). Because genre of a movie is important to a person's likings, let's see if we can find another movie that is in the \"top 3%\" and also caters to user45 preferences.\n",
    "\n",
    "#### Additional Recommendations\n",
    "Like above, I created a set that contains all 7 genres belonging to user45's favorite movies."
   ]
  },
  {
   "cell_type": "code",
   "execution_count": 27,
   "id": "bb726c8d",
   "metadata": {},
   "outputs": [
    {
     "name": "stdout",
     "output_type": "stream",
     "text": [
      "{'Adventure', 'Drama', 'Fantasy', 'Comedy', 'Crime', 'Sci-Fi', 'Romance'}\n"
     ]
    }
   ],
   "source": [
    "genre_rec = set()\n",
    "\n",
    "for i in index_review_5:\n",
    "    genre = movie_review_genre[i]\n",
    "    genre_list = genre.split('|')\n",
    "    for genre in genre_list:\n",
    "        genre_rec.add(genre)\n",
    "\n",
    "print(genre_rec)"
   ]
  },
  {
   "cell_type": "markdown",
   "id": "8496014f",
   "metadata": {},
   "source": [
    "Let' filter for any \"top 3%\" movie that shares these genre. The condition is strict: if a movie has more than one genre, all of those genres must be in common with this set."
   ]
  },
  {
   "cell_type": "code",
   "execution_count": 28,
   "id": "42bf9bc6",
   "metadata": {},
   "outputs": [
    {
     "data": {
      "text/html": [
       "<div>\n",
       "<style scoped>\n",
       "    .dataframe tbody tr th:only-of-type {\n",
       "        vertical-align: middle;\n",
       "    }\n",
       "\n",
       "    .dataframe tbody tr th {\n",
       "        vertical-align: top;\n",
       "    }\n",
       "\n",
       "    .dataframe thead th {\n",
       "        text-align: right;\n",
       "    }\n",
       "</style>\n",
       "<table border=\"1\" class=\"dataframe\">\n",
       "  <thead>\n",
       "    <tr style=\"text-align: right;\">\n",
       "      <th></th>\n",
       "      <th>Movie Recommended</th>\n",
       "      <th>Genre</th>\n",
       "      <th>Rating Reconstruct</th>\n",
       "    </tr>\n",
       "  </thead>\n",
       "  <tbody>\n",
       "    <tr>\n",
       "      <th>0</th>\n",
       "      <td>Ghost and Mrs. Muir, The (1947)</td>\n",
       "      <td>Drama|Fantasy|Romance</td>\n",
       "      <td>3.585019</td>\n",
       "    </tr>\n",
       "    <tr>\n",
       "      <th>1</th>\n",
       "      <td>2001: A Space Odyssey (1968)</td>\n",
       "      <td>Adventure|Drama|Sci-Fi</td>\n",
       "      <td>3.550058</td>\n",
       "    </tr>\n",
       "    <tr>\n",
       "      <th>2</th>\n",
       "      <td>Harold and Maude (1971)</td>\n",
       "      <td>Comedy|Drama|Romance</td>\n",
       "      <td>3.423441</td>\n",
       "    </tr>\n",
       "    <tr>\n",
       "      <th>3</th>\n",
       "      <td>Better Off Dead... (1985)</td>\n",
       "      <td>Comedy|Romance</td>\n",
       "      <td>3.372851</td>\n",
       "    </tr>\n",
       "    <tr>\n",
       "      <th>4</th>\n",
       "      <td>Being There (1979)</td>\n",
       "      <td>Comedy|Drama</td>\n",
       "      <td>3.342717</td>\n",
       "    </tr>\n",
       "    <tr>\n",
       "      <th>5</th>\n",
       "      <td>Local Hero (1983)</td>\n",
       "      <td>Comedy</td>\n",
       "      <td>3.338226</td>\n",
       "    </tr>\n",
       "    <tr>\n",
       "      <th>6</th>\n",
       "      <td>Police Academy (1984)</td>\n",
       "      <td>Comedy|Crime</td>\n",
       "      <td>3.318873</td>\n",
       "    </tr>\n",
       "    <tr>\n",
       "      <th>7</th>\n",
       "      <td>Saving Grace (2000)</td>\n",
       "      <td>Comedy</td>\n",
       "      <td>3.318026</td>\n",
       "    </tr>\n",
       "    <tr>\n",
       "      <th>8</th>\n",
       "      <td>Somewhere in Time (1980)</td>\n",
       "      <td>Drama|Romance</td>\n",
       "      <td>3.306100</td>\n",
       "    </tr>\n",
       "  </tbody>\n",
       "</table>\n",
       "</div>"
      ],
      "text/plain": [
       "                 Movie Recommended                   Genre  Rating Reconstruct\n",
       "0  Ghost and Mrs. Muir, The (1947)   Drama|Fantasy|Romance            3.585019\n",
       "1     2001: A Space Odyssey (1968)  Adventure|Drama|Sci-Fi            3.550058\n",
       "2          Harold and Maude (1971)    Comedy|Drama|Romance            3.423441\n",
       "3        Better Off Dead... (1985)          Comedy|Romance            3.372851\n",
       "4               Being There (1979)            Comedy|Drama            3.342717\n",
       "5                Local Hero (1983)                  Comedy            3.338226\n",
       "6            Police Academy (1984)            Comedy|Crime            3.318873\n",
       "7              Saving Grace (2000)                  Comedy            3.318026\n",
       "8         Somewhere in Time (1980)           Drama|Romance            3.306100"
      ]
     },
     "execution_count": 28,
     "metadata": {},
     "output_type": "execute_result"
    }
   ],
   "source": [
    "top_movie, top_genre, top_score = [],[],[]\n",
    "\n",
    "#For-loop to check and store data for movies that meet the criteria\n",
    "for i in top_3:\n",
    "    movie = movie_review_names[i]\n",
    "    genre = movie_review_genre[i]\n",
    "    score = user45[i]\n",
    "    genre_list = genre.split('|')\n",
    "    \n",
    "    if all(genre in genre_rec for genre in genre_list) and math.isnan(score): \n",
    "        top_movie.append(movie), top_genre.append(genre), top_score.append(user45_rec[i])\n",
    "        #filter for only movies with all genre in common w/ 5-rated list and user1462 has not yet seen\n",
    "\n",
    "#Create data frame containing movies recommended\n",
    "rec_data = pd.DataFrame({'Movie Recommended':top_movie,\n",
    "                         'Genre':top_genre,\n",
    "                         'Rating Reconstruct':top_score})\n",
    "rec_data = rec_data.sort_values(by=['Rating Reconstruct'],ascending=False).reset_index(drop=True)\n",
    "rec_data"
   ]
  },
  {
   "cell_type": "markdown",
   "id": "cc6da7ba",
   "metadata": {},
   "source": [
    "$\\implies$ We end up with \"Harold and Maude\" replacing \"M\". \n",
    "\n",
    "#### Conclusion: \n",
    "I'd still recommend **<ins>\"The Ghost and Mrs. Muir\", \"2001: A Space Odyssey\", and \"M\" as the top three</ins>** first, and I'd also propose <ins>\"Harold and Maude\" as an alternative to \"M\"</ins> because its categories are all in-common with user45's original top-rated films."
   ]
  }
 ],
 "metadata": {
  "kernelspec": {
   "display_name": "Python 3",
   "language": "python",
   "name": "python3"
  },
  "language_info": {
   "codemirror_mode": {
    "name": "ipython",
    "version": 3
   },
   "file_extension": ".py",
   "mimetype": "text/x-python",
   "name": "python",
   "nbconvert_exporter": "python",
   "pygments_lexer": "ipython3",
   "version": "3.8.8"
  }
 },
 "nbformat": 4,
 "nbformat_minor": 5
}
